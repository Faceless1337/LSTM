{
 "cells": [
  {
   "cell_type": "code",
   "execution_count": 1,
   "id": "271b1158",
   "metadata": {
    "_cell_guid": "b1076dfc-b9ad-4769-8c92-a6c4dae69d19",
    "_uuid": "8f2839f25d086af736a60e9eeb907d3b93b6e0e5",
    "execution": {
     "iopub.execute_input": "2022-12-17T00:30:19.300759Z",
     "iopub.status.busy": "2022-12-17T00:30:19.300064Z",
     "iopub.status.idle": "2022-12-17T00:30:19.312233Z",
     "shell.execute_reply": "2022-12-17T00:30:19.311361Z"
    },
    "papermill": {
     "duration": 0.022357,
     "end_time": "2022-12-17T00:30:19.314773",
     "exception": false,
     "start_time": "2022-12-17T00:30:19.292416",
     "status": "completed"
    },
    "tags": []
   },
   "outputs": [],
   "source": [
    "# This Python 3 environment comes with many helpful analytics libraries installed\n",
    "# It is defined by the kaggle/python Docker image: https://github.com/kaggle/docker-python\n",
    "# For example, here's several helpful packages to load\n",
    "\n",
    "import numpy as np # linear algebra\n",
    "import pandas as pd # data processing, CSV file I/O (e.g. pd.read_csv)\n",
    "\n",
    "# Input data files are available in the read-only \"../input/\" directory\n",
    "# For example, running this (by clicking run or pressing Shift+Enter) will list all files under the input directory\n",
    "\n",
    "import os\n",
    "for dirname, _, filenames in os.walk('/kaggle/input'):\n",
    "    for filename in filenames:\n",
    "        print(os.path.join(dirname, filename))\n",
    "\n",
    "# You can write up to 20GB to the current directory (/kaggle/working/) that gets preserved as output when you create a version using \"Save & Run All\" \n",
    "# You can also write temporary files to /kaggle/temp/, but they won't be saved outside of the current session"
   ]
  },
  {
   "cell_type": "code",
   "execution_count": 2,
   "id": "2d749d7c",
   "metadata": {
    "execution": {
     "iopub.execute_input": "2022-12-17T00:30:19.326439Z",
     "iopub.status.busy": "2022-12-17T00:30:19.325719Z",
     "iopub.status.idle": "2022-12-17T00:30:25.527053Z",
     "shell.execute_reply": "2022-12-17T00:30:25.525821Z"
    },
    "papermill": {
     "duration": 6.210118,
     "end_time": "2022-12-17T00:30:25.529848",
     "exception": false,
     "start_time": "2022-12-17T00:30:19.319730",
     "status": "completed"
    },
    "tags": []
   },
   "outputs": [],
   "source": [
    "#imports\n",
    "import numpy as np\n",
    "import tensorflow as tf\n",
    "from tensorflow import keras\n",
    "from tensorflow.keras import layers"
   ]
  },
  {
   "cell_type": "code",
   "execution_count": 3,
   "id": "777eb33e",
   "metadata": {
    "execution": {
     "iopub.execute_input": "2022-12-17T00:30:25.541347Z",
     "iopub.status.busy": "2022-12-17T00:30:25.540678Z",
     "iopub.status.idle": "2022-12-17T00:30:25.547346Z",
     "shell.execute_reply": "2022-12-17T00:30:25.546200Z"
    },
    "papermill": {
     "duration": 0.014876,
     "end_time": "2022-12-17T00:30:25.549676",
     "exception": false,
     "start_time": "2022-12-17T00:30:25.534800",
     "status": "completed"
    },
    "tags": []
   },
   "outputs": [
    {
     "name": "stdout",
     "output_type": "stream",
     "text": [
      "[10, 20, 30, 40, 50, 60, 70, 80, 90, 100, 110, 120, 130, 140, 150, 160, 170, 180, 190, 200]\n"
     ]
    }
   ],
   "source": [
    "#creating data to predict\n",
    "data = [10, 20, 30, 40, 50, 60, 70, 80, 90, 100, 110, 120, 130, 140, 150, 160, 170, 180, 190, 200]\n",
    "print(data)"
   ]
  },
  {
   "cell_type": "code",
   "execution_count": 4,
   "id": "e073e8ea",
   "metadata": {
    "execution": {
     "iopub.execute_input": "2022-12-17T00:30:25.562131Z",
     "iopub.status.busy": "2022-12-17T00:30:25.560574Z",
     "iopub.status.idle": "2022-12-17T00:30:25.569348Z",
     "shell.execute_reply": "2022-12-17T00:30:25.568384Z"
    },
    "papermill": {
     "duration": 0.017363,
     "end_time": "2022-12-17T00:30:25.571864",
     "exception": false,
     "start_time": "2022-12-17T00:30:25.554501",
     "status": "completed"
    },
    "tags": []
   },
   "outputs": [],
   "source": [
    "#function to split data\n",
    "def splitData(seq, nSteps):\n",
    "    \n",
    "    #Declare x and y as empty list\n",
    "    x = []\n",
    "    y = []\n",
    "    \n",
    "    for i in range(len(seq)):\n",
    "        #get the last index\n",
    "        lastIndex = i + nSteps\n",
    "        \n",
    "        #if lastIndex is greater than length of sequence then break\n",
    "        if lastIndex > len(seq) - 1:\n",
    "            break\n",
    "            \n",
    "        #create input and output sequence\n",
    "        seqX, seqY = seq[i:lastIndex], seq[lastIndex]\n",
    "        \n",
    "        #append seqX, seqY in x and y list\n",
    "        x.append(seqX)\n",
    "        y.append(seqY)\n",
    "        pass\n",
    "    #Convert x and y into numpy array\n",
    "    x = np.array(x)\n",
    "    y = np.array(y)\n",
    "    \n",
    "    return x,y \n",
    "    \n",
    "    pass"
   ]
  },
  {
   "cell_type": "code",
   "execution_count": 5,
   "id": "f7481980",
   "metadata": {
    "execution": {
     "iopub.execute_input": "2022-12-17T00:30:25.584017Z",
     "iopub.status.busy": "2022-12-17T00:30:25.583283Z",
     "iopub.status.idle": "2022-12-17T00:30:25.588770Z",
     "shell.execute_reply": "2022-12-17T00:30:25.587605Z"
    },
    "papermill": {
     "duration": 0.013991,
     "end_time": "2022-12-17T00:30:25.591078",
     "exception": false,
     "start_time": "2022-12-17T00:30:25.577087",
     "status": "completed"
    },
    "tags": []
   },
   "outputs": [],
   "source": [
    "#spliting data\n",
    "nSteps = 5\n",
    "x, y = splitData(data, nSteps = 5)"
   ]
  },
  {
   "cell_type": "code",
   "execution_count": 6,
   "id": "b16089fa",
   "metadata": {
    "execution": {
     "iopub.execute_input": "2022-12-17T00:30:25.602375Z",
     "iopub.status.busy": "2022-12-17T00:30:25.602000Z",
     "iopub.status.idle": "2022-12-17T00:30:25.608568Z",
     "shell.execute_reply": "2022-12-17T00:30:25.607420Z"
    },
    "papermill": {
     "duration": 0.016141,
     "end_time": "2022-12-17T00:30:25.612063",
     "exception": false,
     "start_time": "2022-12-17T00:30:25.595922",
     "status": "completed"
    },
    "tags": []
   },
   "outputs": [
    {
     "name": "stdout",
     "output_type": "stream",
     "text": [
      "[[ 10  20  30  40  50]\n",
      " [ 20  30  40  50  60]\n",
      " [ 30  40  50  60  70]\n",
      " [ 40  50  60  70  80]\n",
      " [ 50  60  70  80  90]\n",
      " [ 60  70  80  90 100]\n",
      " [ 70  80  90 100 110]\n",
      " [ 80  90 100 110 120]\n",
      " [ 90 100 110 120 130]\n",
      " [100 110 120 130 140]\n",
      " [110 120 130 140 150]\n",
      " [120 130 140 150 160]\n",
      " [130 140 150 160 170]\n",
      " [140 150 160 170 180]\n",
      " [150 160 170 180 190]]\n"
     ]
    }
   ],
   "source": [
    "#printing x data\n",
    "print(x)"
   ]
  },
  {
   "cell_type": "code",
   "execution_count": 7,
   "id": "92327bc7",
   "metadata": {
    "execution": {
     "iopub.execute_input": "2022-12-17T00:30:25.623423Z",
     "iopub.status.busy": "2022-12-17T00:30:25.623053Z",
     "iopub.status.idle": "2022-12-17T00:30:25.628399Z",
     "shell.execute_reply": "2022-12-17T00:30:25.627144Z"
    },
    "papermill": {
     "duration": 0.014453,
     "end_time": "2022-12-17T00:30:25.631343",
     "exception": false,
     "start_time": "2022-12-17T00:30:25.616890",
     "status": "completed"
    },
    "tags": []
   },
   "outputs": [
    {
     "name": "stdout",
     "output_type": "stream",
     "text": [
      "[ 60  70  80  90 100 110 120 130 140 150 160 170 180 190 200]\n"
     ]
    }
   ],
   "source": [
    "#printing y data\n",
    "print(y)"
   ]
  },
  {
   "cell_type": "code",
   "execution_count": 8,
   "id": "8a774e70",
   "metadata": {
    "execution": {
     "iopub.execute_input": "2022-12-17T00:30:25.643900Z",
     "iopub.status.busy": "2022-12-17T00:30:25.643498Z",
     "iopub.status.idle": "2022-12-17T00:30:25.650032Z",
     "shell.execute_reply": "2022-12-17T00:30:25.648968Z"
    },
    "papermill": {
     "duration": 0.015668,
     "end_time": "2022-12-17T00:30:25.652724",
     "exception": false,
     "start_time": "2022-12-17T00:30:25.637056",
     "status": "completed"
    },
    "tags": []
   },
   "outputs": [
    {
     "name": "stdout",
     "output_type": "stream",
     "text": [
      "[10 20 30 40 50] 60\n",
      "[20 30 40 50 60] 70\n",
      "[30 40 50 60 70] 80\n",
      "[40 50 60 70 80] 90\n",
      "[50 60 70 80 90] 100\n",
      "[ 60  70  80  90 100] 110\n",
      "[ 70  80  90 100 110] 120\n",
      "[ 80  90 100 110 120] 130\n",
      "[ 90 100 110 120 130] 140\n",
      "[100 110 120 130 140] 150\n",
      "[110 120 130 140 150] 160\n",
      "[120 130 140 150 160] 170\n",
      "[130 140 150 160 170] 180\n",
      "[140 150 160 170 180] 190\n",
      "[150 160 170 180 190] 200\n"
     ]
    }
   ],
   "source": [
    "for i in range(len(x)):\n",
    "    print(x[i], y[i])"
   ]
  },
  {
   "cell_type": "code",
   "execution_count": 9,
   "id": "19303c21",
   "metadata": {
    "execution": {
     "iopub.execute_input": "2022-12-17T00:30:25.663861Z",
     "iopub.status.busy": "2022-12-17T00:30:25.663433Z",
     "iopub.status.idle": "2022-12-17T00:30:25.670341Z",
     "shell.execute_reply": "2022-12-17T00:30:25.668737Z"
    },
    "papermill": {
     "duration": 0.014864,
     "end_time": "2022-12-17T00:30:25.672469",
     "exception": false,
     "start_time": "2022-12-17T00:30:25.657605",
     "status": "completed"
    },
    "tags": []
   },
   "outputs": [
    {
     "name": "stdout",
     "output_type": "stream",
     "text": [
      "[[[10]\n",
      "  [20]\n",
      "  [30]\n",
      "  [40]\n",
      "  [50]]\n",
      "\n",
      " [[20]\n",
      "  [30]\n",
      "  [40]\n",
      "  [50]\n",
      "  [60]]]\n"
     ]
    }
   ],
   "source": [
    "#reshaping data\n",
    "nFeatures = 1\n",
    "x = x.reshape((x.shape[0], x.shape[1], nFeatures))\n",
    "print(x[:2])"
   ]
  },
  {
   "cell_type": "code",
   "execution_count": 10,
   "id": "409213d9",
   "metadata": {
    "execution": {
     "iopub.execute_input": "2022-12-17T00:30:25.683844Z",
     "iopub.status.busy": "2022-12-17T00:30:25.683191Z",
     "iopub.status.idle": "2022-12-17T00:30:26.084321Z",
     "shell.execute_reply": "2022-12-17T00:30:26.082401Z"
    },
    "papermill": {
     "duration": 0.40996,
     "end_time": "2022-12-17T00:30:26.087231",
     "exception": false,
     "start_time": "2022-12-17T00:30:25.677271",
     "status": "completed"
    },
    "tags": []
   },
   "outputs": [
    {
     "name": "stderr",
     "output_type": "stream",
     "text": [
      "2022-12-17 00:30:25.719515: I tensorflow/core/common_runtime/process_util.cc:146] Creating new thread pool with default inter op setting: 2. Tune using inter_op_parallelism_threads for best performance.\n"
     ]
    },
    {
     "name": "stdout",
     "output_type": "stream",
     "text": [
      "Model: \"sequential\"\n",
      "_________________________________________________________________\n",
      "Layer (type)                 Output Shape              Param #   \n",
      "=================================================================\n",
      "lstm (LSTM)                  (None, 50)                10400     \n",
      "_________________________________________________________________\n",
      "dense (Dense)                (None, 1)                 51        \n",
      "=================================================================\n",
      "Total params: 10,451\n",
      "Trainable params: 10,451\n",
      "Non-trainable params: 0\n",
      "_________________________________________________________________\n"
     ]
    }
   ],
   "source": [
    "#creating model\n",
    "model = tf.keras.Sequential()\n",
    "lrelu = lambda c: tf.keras.activations.relu(c, alpha=0.1)\n",
    "model.add(layers.LSTM(50, activation=lrelu, input_shape=(nSteps, nFeatures)))\n",
    "model.add(layers.Dense(1))\n",
    "model.summary()"
   ]
  },
  {
   "cell_type": "code",
   "execution_count": 11,
   "id": "f2f72412",
   "metadata": {
    "execution": {
     "iopub.execute_input": "2022-12-17T00:30:26.099313Z",
     "iopub.status.busy": "2022-12-17T00:30:26.098866Z",
     "iopub.status.idle": "2022-12-17T00:30:26.115891Z",
     "shell.execute_reply": "2022-12-17T00:30:26.114757Z"
    },
    "papermill": {
     "duration": 0.026077,
     "end_time": "2022-12-17T00:30:26.118516",
     "exception": false,
     "start_time": "2022-12-17T00:30:26.092439",
     "status": "completed"
    },
    "tags": []
   },
   "outputs": [],
   "source": [
    "#compiling model\n",
    "model.compile(optimizer=tf.keras.optimizers.Adam(0.01), loss=tf.keras.losses.MeanSquaredError(), metrics=['accuracy'])"
   ]
  },
  {
   "cell_type": "code",
   "execution_count": 12,
   "id": "e0add4ce",
   "metadata": {
    "execution": {
     "iopub.execute_input": "2022-12-17T00:30:26.130254Z",
     "iopub.status.busy": "2022-12-17T00:30:26.129876Z",
     "iopub.status.idle": "2022-12-17T00:30:30.045276Z",
     "shell.execute_reply": "2022-12-17T00:30:30.044026Z"
    },
    "papermill": {
     "duration": 3.923879,
     "end_time": "2022-12-17T00:30:30.047543",
     "exception": false,
     "start_time": "2022-12-17T00:30:26.123664",
     "status": "completed"
    },
    "tags": []
   },
   "outputs": [
    {
     "name": "stdout",
     "output_type": "stream",
     "text": [
      "Epoch 1/200\n"
     ]
    },
    {
     "name": "stderr",
     "output_type": "stream",
     "text": [
      "2022-12-17 00:30:26.190168: I tensorflow/compiler/mlir/mlir_graph_optimization_pass.cc:185] None of the MLIR Optimization Passes are enabled (registered 2)\n"
     ]
    },
    {
     "name": "stdout",
     "output_type": "stream",
     "text": [
      "1/1 [==============================] - 2s 2s/step - loss: 21580.2285 - accuracy: 0.0000e+00\n",
      "Epoch 2/200\n",
      "1/1 [==============================] - 0s 8ms/step - loss: 16159.5645 - accuracy: 0.0000e+00\n",
      "Epoch 3/200\n",
      "1/1 [==============================] - 0s 6ms/step - loss: 11894.4521 - accuracy: 0.0000e+00\n",
      "Epoch 4/200\n",
      "1/1 [==============================] - 0s 5ms/step - loss: 8743.1309 - accuracy: 0.0000e+00\n",
      "Epoch 5/200\n",
      "1/1 [==============================] - 0s 6ms/step - loss: 5966.7686 - accuracy: 0.0000e+00\n",
      "Epoch 6/200\n",
      "1/1 [==============================] - 0s 6ms/step - loss: 2917.4651 - accuracy: 0.0000e+00\n",
      "Epoch 7/200\n",
      "1/1 [==============================] - 0s 6ms/step - loss: 570.4940 - accuracy: 0.0000e+00\n",
      "Epoch 8/200\n",
      "1/1 [==============================] - 0s 7ms/step - loss: 1468.3937 - accuracy: 0.0000e+00\n",
      "Epoch 9/200\n",
      "1/1 [==============================] - 0s 6ms/step - loss: 1356.6313 - accuracy: 0.0000e+00\n",
      "Epoch 10/200\n",
      "1/1 [==============================] - 0s 6ms/step - loss: 798.0334 - accuracy: 0.0000e+00\n",
      "Epoch 11/200\n",
      "1/1 [==============================] - 0s 6ms/step - loss: 574.2970 - accuracy: 0.0000e+00\n",
      "Epoch 12/200\n",
      "1/1 [==============================] - 0s 7ms/step - loss: 302.0948 - accuracy: 0.0000e+00\n",
      "Epoch 13/200\n",
      "1/1 [==============================] - 0s 6ms/step - loss: 102.7109 - accuracy: 0.0000e+00\n",
      "Epoch 14/200\n",
      "1/1 [==============================] - 0s 6ms/step - loss: 153.4311 - accuracy: 0.0000e+00\n",
      "Epoch 15/200\n",
      "1/1 [==============================] - 0s 6ms/step - loss: 244.7965 - accuracy: 0.0000e+00\n",
      "Epoch 16/200\n",
      "1/1 [==============================] - 0s 6ms/step - loss: 423.2614 - accuracy: 0.0000e+00\n",
      "Epoch 17/200\n",
      "1/1 [==============================] - 0s 6ms/step - loss: 481.4177 - accuracy: 0.0000e+00\n",
      "Epoch 18/200\n",
      "1/1 [==============================] - 0s 6ms/step - loss: 405.3182 - accuracy: 0.0000e+00\n",
      "Epoch 19/200\n",
      "1/1 [==============================] - 0s 6ms/step - loss: 163.1305 - accuracy: 0.0000e+00\n",
      "Epoch 20/200\n",
      "1/1 [==============================] - 0s 6ms/step - loss: 198.9267 - accuracy: 0.0000e+00\n",
      "Epoch 21/200\n",
      "1/1 [==============================] - 0s 5ms/step - loss: 220.7127 - accuracy: 0.0000e+00\n",
      "Epoch 22/200\n",
      "1/1 [==============================] - 0s 7ms/step - loss: 231.7823 - accuracy: 0.0000e+00\n",
      "Epoch 23/200\n",
      "1/1 [==============================] - 0s 6ms/step - loss: 213.4785 - accuracy: 0.0000e+00\n",
      "Epoch 24/200\n",
      "1/1 [==============================] - 0s 9ms/step - loss: 182.0730 - accuracy: 0.0000e+00\n",
      "Epoch 25/200\n",
      "1/1 [==============================] - 0s 7ms/step - loss: 160.6748 - accuracy: 0.0000e+00\n",
      "Epoch 26/200\n",
      "1/1 [==============================] - 0s 7ms/step - loss: 165.3555 - accuracy: 0.0000e+00\n",
      "Epoch 27/200\n",
      "1/1 [==============================] - 0s 7ms/step - loss: 181.8383 - accuracy: 0.0000e+00\n",
      "Epoch 28/200\n",
      "1/1 [==============================] - 0s 6ms/step - loss: 179.4418 - accuracy: 0.0000e+00\n",
      "Epoch 29/200\n",
      "1/1 [==============================] - 0s 6ms/step - loss: 163.5464 - accuracy: 0.0000e+00\n",
      "Epoch 30/200\n",
      "1/1 [==============================] - 0s 6ms/step - loss: 150.7272 - accuracy: 0.0000e+00\n",
      "Epoch 31/200\n",
      "1/1 [==============================] - 0s 6ms/step - loss: 164.2136 - accuracy: 0.0000e+00\n",
      "Epoch 32/200\n",
      "1/1 [==============================] - 0s 7ms/step - loss: 147.3728 - accuracy: 0.0000e+00\n",
      "Epoch 33/200\n",
      "1/1 [==============================] - 0s 5ms/step - loss: 136.2109 - accuracy: 0.0000e+00\n",
      "Epoch 34/200\n",
      "1/1 [==============================] - 0s 5ms/step - loss: 133.6461 - accuracy: 0.0000e+00\n",
      "Epoch 35/200\n",
      "1/1 [==============================] - 0s 7ms/step - loss: 133.4157 - accuracy: 0.0000e+00\n",
      "Epoch 36/200\n",
      "1/1 [==============================] - 0s 8ms/step - loss: 129.6009 - accuracy: 0.0000e+00\n",
      "Epoch 37/200\n",
      "1/1 [==============================] - 0s 6ms/step - loss: 123.7285 - accuracy: 0.0000e+00\n",
      "Epoch 38/200\n",
      "1/1 [==============================] - 0s 6ms/step - loss: 118.5893 - accuracy: 0.0000e+00\n",
      "Epoch 39/200\n",
      "1/1 [==============================] - 0s 7ms/step - loss: 111.9682 - accuracy: 0.0000e+00\n",
      "Epoch 40/200\n",
      "1/1 [==============================] - 0s 8ms/step - loss: 103.6673 - accuracy: 0.0000e+00\n",
      "Epoch 41/200\n",
      "1/1 [==============================] - 0s 6ms/step - loss: 96.9829 - accuracy: 0.0000e+00\n",
      "Epoch 42/200\n",
      "1/1 [==============================] - 0s 6ms/step - loss: 86.8718 - accuracy: 0.0000e+00\n",
      "Epoch 43/200\n",
      "1/1 [==============================] - 0s 6ms/step - loss: 74.4622 - accuracy: 0.0000e+00\n",
      "Epoch 44/200\n",
      "1/1 [==============================] - 0s 6ms/step - loss: 63.4795 - accuracy: 0.0000e+00\n",
      "Epoch 45/200\n",
      "1/1 [==============================] - 0s 5ms/step - loss: 99.0575 - accuracy: 0.0000e+00\n",
      "Epoch 46/200\n",
      "1/1 [==============================] - 0s 6ms/step - loss: 56.4648 - accuracy: 0.0000e+00\n",
      "Epoch 47/200\n",
      "1/1 [==============================] - 0s 8ms/step - loss: 54.0037 - accuracy: 0.0000e+00\n",
      "Epoch 48/200\n",
      "1/1 [==============================] - 0s 6ms/step - loss: 56.6022 - accuracy: 0.0000e+00\n",
      "Epoch 49/200\n",
      "1/1 [==============================] - 0s 8ms/step - loss: 53.2552 - accuracy: 0.0000e+00\n",
      "Epoch 50/200\n",
      "1/1 [==============================] - 0s 7ms/step - loss: 49.3240 - accuracy: 0.0000e+00\n",
      "Epoch 51/200\n",
      "1/1 [==============================] - 0s 8ms/step - loss: 56.8554 - accuracy: 0.0000e+00\n",
      "Epoch 52/200\n",
      "1/1 [==============================] - 0s 9ms/step - loss: 47.3580 - accuracy: 0.0000e+00\n",
      "Epoch 53/200\n",
      "1/1 [==============================] - 0s 7ms/step - loss: 43.6456 - accuracy: 0.0000e+00\n",
      "Epoch 54/200\n",
      "1/1 [==============================] - 0s 7ms/step - loss: 37.5664 - accuracy: 0.0000e+00\n",
      "Epoch 55/200\n",
      "1/1 [==============================] - 0s 7ms/step - loss: 35.1459 - accuracy: 0.0000e+00\n",
      "Epoch 56/200\n",
      "1/1 [==============================] - 0s 7ms/step - loss: 25.6440 - accuracy: 0.0000e+00\n",
      "Epoch 57/200\n",
      "1/1 [==============================] - 0s 8ms/step - loss: 22.1316 - accuracy: 0.0000e+00\n",
      "Epoch 58/200\n",
      "1/1 [==============================] - 0s 10ms/step - loss: 15.2584 - accuracy: 0.0000e+00\n",
      "Epoch 59/200\n",
      "1/1 [==============================] - 0s 8ms/step - loss: 4.6504 - accuracy: 0.0000e+00\n",
      "Epoch 60/200\n",
      "1/1 [==============================] - 0s 8ms/step - loss: 3.4272 - accuracy: 0.0000e+00\n",
      "Epoch 61/200\n",
      "1/1 [==============================] - 0s 8ms/step - loss: 50.7355 - accuracy: 0.0000e+00\n",
      "Epoch 62/200\n",
      "1/1 [==============================] - 0s 7ms/step - loss: 149.8381 - accuracy: 0.0000e+00\n",
      "Epoch 63/200\n",
      "1/1 [==============================] - 0s 6ms/step - loss: 44.4821 - accuracy: 0.0000e+00\n",
      "Epoch 64/200\n",
      "1/1 [==============================] - 0s 8ms/step - loss: 28.6954 - accuracy: 0.0000e+00\n",
      "Epoch 65/200\n",
      "1/1 [==============================] - 0s 7ms/step - loss: 108.4939 - accuracy: 0.0000e+00\n",
      "Epoch 66/200\n",
      "1/1 [==============================] - 0s 7ms/step - loss: 77.4840 - accuracy: 0.0000e+00\n",
      "Epoch 67/200\n",
      "1/1 [==============================] - 0s 7ms/step - loss: 18.8487 - accuracy: 0.0000e+00\n",
      "Epoch 68/200\n",
      "1/1 [==============================] - 0s 6ms/step - loss: 49.1884 - accuracy: 0.0000e+00\n",
      "Epoch 69/200\n",
      "1/1 [==============================] - 0s 6ms/step - loss: 81.1793 - accuracy: 0.0000e+00\n",
      "Epoch 70/200\n",
      "1/1 [==============================] - 0s 6ms/step - loss: 42.1941 - accuracy: 0.0000e+00\n",
      "Epoch 71/200\n",
      "1/1 [==============================] - 0s 7ms/step - loss: 18.1334 - accuracy: 0.0000e+00\n",
      "Epoch 72/200\n",
      "1/1 [==============================] - 0s 7ms/step - loss: 45.1271 - accuracy: 0.0000e+00\n",
      "Epoch 73/200\n",
      "1/1 [==============================] - 0s 9ms/step - loss: 54.8958 - accuracy: 0.0000e+00\n",
      "Epoch 74/200\n",
      "1/1 [==============================] - 0s 6ms/step - loss: 26.4109 - accuracy: 0.0000e+00\n",
      "Epoch 75/200\n",
      "1/1 [==============================] - 0s 7ms/step - loss: 12.6710 - accuracy: 0.0000e+00\n",
      "Epoch 76/200\n",
      "1/1 [==============================] - 0s 8ms/step - loss: 29.4704 - accuracy: 0.0000e+00\n",
      "Epoch 77/200\n",
      "1/1 [==============================] - 0s 6ms/step - loss: 30.3590 - accuracy: 0.0000e+00\n",
      "Epoch 78/200\n",
      "1/1 [==============================] - 0s 9ms/step - loss: 7.7497 - accuracy: 0.0000e+00\n",
      "Epoch 79/200\n",
      "1/1 [==============================] - 0s 7ms/step - loss: 94.5313 - accuracy: 0.0000e+00\n",
      "Epoch 80/200\n",
      "1/1 [==============================] - 0s 7ms/step - loss: 31.5355 - accuracy: 0.0000e+00\n",
      "Epoch 81/200\n",
      "1/1 [==============================] - 0s 6ms/step - loss: 27.3817 - accuracy: 0.0000e+00\n",
      "Epoch 82/200\n",
      "1/1 [==============================] - 0s 7ms/step - loss: 7.3928 - accuracy: 0.0000e+00\n",
      "Epoch 83/200\n",
      "1/1 [==============================] - 0s 7ms/step - loss: 11.9791 - accuracy: 0.0000e+00\n",
      "Epoch 84/200\n",
      "1/1 [==============================] - 0s 7ms/step - loss: 24.6365 - accuracy: 0.0000e+00\n",
      "Epoch 85/200\n",
      "1/1 [==============================] - 0s 7ms/step - loss: 20.6026 - accuracy: 0.0000e+00\n",
      "Epoch 86/200\n",
      "1/1 [==============================] - 0s 6ms/step - loss: 7.3019 - accuracy: 0.0000e+00\n",
      "Epoch 87/200\n",
      "1/1 [==============================] - 0s 6ms/step - loss: 7.6884 - accuracy: 0.0000e+00\n",
      "Epoch 88/200\n",
      "1/1 [==============================] - 0s 7ms/step - loss: 19.0722 - accuracy: 0.0000e+00\n",
      "Epoch 89/200\n",
      "1/1 [==============================] - 0s 6ms/step - loss: 11.3289 - accuracy: 0.0000e+00\n",
      "Epoch 90/200\n",
      "1/1 [==============================] - 0s 6ms/step - loss: 3.8370 - accuracy: 0.0000e+00\n",
      "Epoch 91/200\n",
      "1/1 [==============================] - 0s 6ms/step - loss: 9.8418 - accuracy: 0.0000e+00\n",
      "Epoch 92/200\n",
      "1/1 [==============================] - 0s 8ms/step - loss: 12.9529 - accuracy: 0.0000e+00\n",
      "Epoch 93/200\n",
      "1/1 [==============================] - 0s 7ms/step - loss: 6.3149 - accuracy: 0.0000e+00\n",
      "Epoch 94/200\n",
      "1/1 [==============================] - 0s 7ms/step - loss: 2.3753 - accuracy: 0.0000e+00\n",
      "Epoch 95/200\n",
      "1/1 [==============================] - 0s 7ms/step - loss: 8.5651 - accuracy: 0.0000e+00\n",
      "Epoch 96/200\n",
      "1/1 [==============================] - 0s 8ms/step - loss: 6.5376 - accuracy: 0.0000e+00\n",
      "Epoch 97/200\n",
      "1/1 [==============================] - 0s 7ms/step - loss: 1.3689 - accuracy: 0.0000e+00\n",
      "Epoch 98/200\n",
      "1/1 [==============================] - 0s 7ms/step - loss: 4.6798 - accuracy: 0.0000e+00\n",
      "Epoch 99/200\n",
      "1/1 [==============================] - 0s 9ms/step - loss: 6.1761 - accuracy: 0.0000e+00\n",
      "Epoch 100/200\n",
      "1/1 [==============================] - 0s 8ms/step - loss: 2.2658 - accuracy: 0.0000e+00\n",
      "Epoch 101/200\n",
      "1/1 [==============================] - 0s 6ms/step - loss: 1.5128 - accuracy: 0.0000e+00\n",
      "Epoch 102/200\n",
      "1/1 [==============================] - 0s 7ms/step - loss: 4.6996 - accuracy: 0.0000e+00\n",
      "Epoch 103/200\n",
      "1/1 [==============================] - 0s 7ms/step - loss: 2.2706 - accuracy: 0.0000e+00\n",
      "Epoch 104/200\n",
      "1/1 [==============================] - 0s 7ms/step - loss: 0.8523 - accuracy: 0.0000e+00\n",
      "Epoch 105/200\n",
      "1/1 [==============================] - 0s 7ms/step - loss: 2.9531 - accuracy: 0.0000e+00\n",
      "Epoch 106/200\n",
      "1/1 [==============================] - 0s 8ms/step - loss: 2.5819 - accuracy: 0.0000e+00\n",
      "Epoch 107/200\n",
      "1/1 [==============================] - 0s 8ms/step - loss: 0.5355 - accuracy: 0.0000e+00\n",
      "Epoch 108/200\n",
      "1/1 [==============================] - 0s 8ms/step - loss: 1.3884 - accuracy: 0.0000e+00\n",
      "Epoch 109/200\n",
      "1/1 [==============================] - 0s 7ms/step - loss: 2.1729 - accuracy: 0.0000e+00\n",
      "Epoch 110/200\n",
      "1/1 [==============================] - 0s 6ms/step - loss: 0.5198 - accuracy: 0.0000e+00\n",
      "Epoch 111/200\n",
      "1/1 [==============================] - 0s 7ms/step - loss: 0.6824 - accuracy: 0.0000e+00\n",
      "Epoch 112/200\n",
      "1/1 [==============================] - 0s 6ms/step - loss: 1.5950 - accuracy: 0.0000e+00\n",
      "Epoch 113/200\n",
      "1/1 [==============================] - 0s 6ms/step - loss: 0.8354 - accuracy: 0.0000e+00\n",
      "Epoch 114/200\n",
      "1/1 [==============================] - 0s 7ms/step - loss: 0.2264 - accuracy: 0.0000e+00\n",
      "Epoch 115/200\n",
      "1/1 [==============================] - 0s 6ms/step - loss: 1.0269 - accuracy: 0.0000e+00\n",
      "Epoch 116/200\n",
      "1/1 [==============================] - 0s 7ms/step - loss: 0.8810 - accuracy: 0.0000e+00\n",
      "Epoch 117/200\n",
      "1/1 [==============================] - 0s 6ms/step - loss: 0.1920 - accuracy: 0.0000e+00\n",
      "Epoch 118/200\n",
      "1/1 [==============================] - 0s 8ms/step - loss: 0.6069 - accuracy: 0.0000e+00\n",
      "Epoch 119/200\n",
      "1/1 [==============================] - 0s 7ms/step - loss: 0.8191 - accuracy: 0.0000e+00\n",
      "Epoch 120/200\n",
      "1/1 [==============================] - 0s 8ms/step - loss: 0.2766 - accuracy: 0.0000e+00\n",
      "Epoch 121/200\n",
      "1/1 [==============================] - 0s 8ms/step - loss: 0.3015 - accuracy: 0.0000e+00\n",
      "Epoch 122/200\n",
      "1/1 [==============================] - 0s 7ms/step - loss: 0.6521 - accuracy: 0.0000e+00\n",
      "Epoch 123/200\n",
      "1/1 [==============================] - 0s 6ms/step - loss: 0.3123 - accuracy: 0.0000e+00\n",
      "Epoch 124/200\n",
      "1/1 [==============================] - 0s 6ms/step - loss: 0.1865 - accuracy: 0.0000e+00\n",
      "Epoch 125/200\n",
      "1/1 [==============================] - 0s 7ms/step - loss: 0.4775 - accuracy: 0.0000e+00\n",
      "Epoch 126/200\n",
      "1/1 [==============================] - 0s 7ms/step - loss: 0.3418 - accuracy: 0.0000e+00\n",
      "Epoch 127/200\n",
      "1/1 [==============================] - 0s 6ms/step - loss: 0.1338 - accuracy: 0.0000e+00\n",
      "Epoch 128/200\n",
      "1/1 [==============================] - 0s 8ms/step - loss: 0.3345 - accuracy: 0.0000e+00\n",
      "Epoch 129/200\n",
      "1/1 [==============================] - 0s 7ms/step - loss: 0.3222 - accuracy: 0.0000e+00\n",
      "Epoch 130/200\n",
      "1/1 [==============================] - 0s 5ms/step - loss: 0.1273 - accuracy: 0.0000e+00\n",
      "Epoch 131/200\n",
      "1/1 [==============================] - 0s 7ms/step - loss: 0.2333 - accuracy: 0.0000e+00\n",
      "Epoch 132/200\n",
      "1/1 [==============================] - 0s 7ms/step - loss: 0.2839 - accuracy: 0.0000e+00\n",
      "Epoch 133/200\n",
      "1/1 [==============================] - 0s 7ms/step - loss: 0.1359 - accuracy: 0.0000e+00\n",
      "Epoch 134/200\n",
      "1/1 [==============================] - 0s 7ms/step - loss: 0.1634 - accuracy: 0.0000e+00\n",
      "Epoch 135/200\n",
      "1/1 [==============================] - 0s 7ms/step - loss: 0.2421 - accuracy: 0.0000e+00\n",
      "Epoch 136/200\n",
      "1/1 [==============================] - 0s 8ms/step - loss: 0.1444 - accuracy: 0.0000e+00\n",
      "Epoch 137/200\n",
      "1/1 [==============================] - 0s 7ms/step - loss: 0.1287 - accuracy: 0.0000e+00\n",
      "Epoch 138/200\n",
      "1/1 [==============================] - 0s 7ms/step - loss: 0.2007 - accuracy: 0.0000e+00\n",
      "Epoch 139/200\n",
      "1/1 [==============================] - 0s 6ms/step - loss: 0.1531 - accuracy: 0.0000e+00\n",
      "Epoch 140/200\n",
      "1/1 [==============================] - 0s 6ms/step - loss: 0.1109 - accuracy: 0.0000e+00\n",
      "Epoch 141/200\n",
      "1/1 [==============================] - 0s 7ms/step - loss: 0.1645 - accuracy: 0.0000e+00\n",
      "Epoch 142/200\n",
      "1/1 [==============================] - 0s 7ms/step - loss: 0.1490 - accuracy: 0.0000e+00\n",
      "Epoch 143/200\n",
      "1/1 [==============================] - 0s 7ms/step - loss: 0.1035 - accuracy: 0.0000e+00\n",
      "Epoch 144/200\n",
      "1/1 [==============================] - 0s 8ms/step - loss: 0.1357 - accuracy: 0.0000e+00\n",
      "Epoch 145/200\n",
      "1/1 [==============================] - 0s 6ms/step - loss: 0.1390 - accuracy: 0.0000e+00\n",
      "Epoch 146/200\n",
      "1/1 [==============================] - 0s 5ms/step - loss: 0.0995 - accuracy: 0.0000e+00\n",
      "Epoch 147/200\n",
      "1/1 [==============================] - 0s 8ms/step - loss: 0.1144 - accuracy: 0.0000e+00\n",
      "Epoch 148/200\n",
      "1/1 [==============================] - 0s 7ms/step - loss: 0.1263 - accuracy: 0.0000e+00\n",
      "Epoch 149/200\n",
      "1/1 [==============================] - 0s 8ms/step - loss: 0.0960 - accuracy: 0.0000e+00\n",
      "Epoch 150/200\n",
      "1/1 [==============================] - 0s 7ms/step - loss: 0.1012 - accuracy: 0.0000e+00\n",
      "Epoch 151/200\n",
      "1/1 [==============================] - 0s 15ms/step - loss: 0.1148 - accuracy: 0.0000e+00\n",
      "Epoch 152/200\n",
      "1/1 [==============================] - 0s 7ms/step - loss: 0.0932 - accuracy: 0.0000e+00\n",
      "Epoch 153/200\n",
      "1/1 [==============================] - 0s 7ms/step - loss: 0.0926 - accuracy: 0.0000e+00\n",
      "Epoch 154/200\n",
      "1/1 [==============================] - 0s 5ms/step - loss: 0.1040 - accuracy: 0.0000e+00\n",
      "Epoch 155/200\n",
      "1/1 [==============================] - 0s 6ms/step - loss: 0.0881 - accuracy: 0.0000e+00\n",
      "Epoch 156/200\n",
      "1/1 [==============================] - 0s 5ms/step - loss: 0.0853 - accuracy: 0.0000e+00\n",
      "Epoch 157/200\n",
      "1/1 [==============================] - 0s 7ms/step - loss: 0.0939 - accuracy: 0.0000e+00\n",
      "Epoch 158/200\n",
      "1/1 [==============================] - 0s 7ms/step - loss: 0.0829 - accuracy: 0.0000e+00\n",
      "Epoch 159/200\n",
      "1/1 [==============================] - 0s 8ms/step - loss: 0.0792 - accuracy: 0.0000e+00\n",
      "Epoch 160/200\n",
      "1/1 [==============================] - 0s 7ms/step - loss: 0.0859 - accuracy: 0.0000e+00\n",
      "Epoch 161/200\n",
      "1/1 [==============================] - 0s 6ms/step - loss: 0.0780 - accuracy: 0.0000e+00\n",
      "Epoch 162/200\n",
      "1/1 [==============================] - 0s 8ms/step - loss: 0.0746 - accuracy: 0.0000e+00\n",
      "Epoch 163/200\n",
      "1/1 [==============================] - 0s 6ms/step - loss: 0.0794 - accuracy: 0.0000e+00\n",
      "Epoch 164/200\n",
      "1/1 [==============================] - 0s 8ms/step - loss: 0.0735 - accuracy: 0.0000e+00\n",
      "Epoch 165/200\n",
      "1/1 [==============================] - 0s 8ms/step - loss: 0.0707 - accuracy: 0.0000e+00\n",
      "Epoch 166/200\n",
      "1/1 [==============================] - 0s 7ms/step - loss: 0.0739 - accuracy: 0.0000e+00\n",
      "Epoch 167/200\n",
      "1/1 [==============================] - 0s 8ms/step - loss: 0.0692 - accuracy: 0.0000e+00\n",
      "Epoch 168/200\n",
      "1/1 [==============================] - 0s 8ms/step - loss: 0.0667 - accuracy: 0.0000e+00\n",
      "Epoch 169/200\n",
      "1/1 [==============================] - 0s 7ms/step - loss: 0.0689 - accuracy: 0.0000e+00\n",
      "Epoch 170/200\n",
      "1/1 [==============================] - 0s 8ms/step - loss: 0.0650 - accuracy: 0.0000e+00\n",
      "Epoch 171/200\n",
      "1/1 [==============================] - 0s 7ms/step - loss: 0.0633 - accuracy: 0.0000e+00\n",
      "Epoch 172/200\n",
      "1/1 [==============================] - 0s 6ms/step - loss: 0.0647 - accuracy: 0.0000e+00\n",
      "Epoch 173/200\n",
      "1/1 [==============================] - 0s 8ms/step - loss: 0.0614 - accuracy: 0.0000e+00\n",
      "Epoch 174/200\n",
      "1/1 [==============================] - 0s 7ms/step - loss: 0.0602 - accuracy: 0.0000e+00\n",
      "Epoch 175/200\n",
      "1/1 [==============================] - 0s 6ms/step - loss: 0.0610 - accuracy: 0.0000e+00\n",
      "Epoch 176/200\n",
      "1/1 [==============================] - 0s 7ms/step - loss: 0.0582 - accuracy: 0.0000e+00\n",
      "Epoch 177/200\n",
      "1/1 [==============================] - 0s 5ms/step - loss: 0.0574 - accuracy: 0.0000e+00\n",
      "Epoch 178/200\n",
      "1/1 [==============================] - 0s 7ms/step - loss: 0.0576 - accuracy: 0.0000e+00\n",
      "Epoch 179/200\n",
      "1/1 [==============================] - 0s 6ms/step - loss: 0.0553 - accuracy: 0.0000e+00\n",
      "Epoch 180/200\n",
      "1/1 [==============================] - 0s 7ms/step - loss: 0.0548 - accuracy: 0.0000e+00\n",
      "Epoch 181/200\n",
      "1/1 [==============================] - 0s 9ms/step - loss: 0.0546 - accuracy: 0.0000e+00\n",
      "Epoch 182/200\n",
      "1/1 [==============================] - 0s 6ms/step - loss: 0.0527 - accuracy: 0.0000e+00\n",
      "Epoch 183/200\n",
      "1/1 [==============================] - 0s 6ms/step - loss: 0.0524 - accuracy: 0.0000e+00\n",
      "Epoch 184/200\n",
      "1/1 [==============================] - 0s 7ms/step - loss: 0.0519 - accuracy: 0.0000e+00\n",
      "Epoch 185/200\n",
      "1/1 [==============================] - 0s 8ms/step - loss: 0.0505 - accuracy: 0.0000e+00\n",
      "Epoch 186/200\n",
      "1/1 [==============================] - 0s 6ms/step - loss: 0.0503 - accuracy: 0.0000e+00\n",
      "Epoch 187/200\n",
      "1/1 [==============================] - 0s 7ms/step - loss: 0.0497 - accuracy: 0.0000e+00\n",
      "Epoch 188/200\n",
      "1/1 [==============================] - 0s 6ms/step - loss: 0.0485 - accuracy: 0.0000e+00\n",
      "Epoch 189/200\n",
      "1/1 [==============================] - 0s 8ms/step - loss: 0.0484 - accuracy: 0.0000e+00\n",
      "Epoch 190/200\n",
      "1/1 [==============================] - 0s 7ms/step - loss: 0.0476 - accuracy: 0.0000e+00\n",
      "Epoch 191/200\n",
      "1/1 [==============================] - 0s 8ms/step - loss: 0.0468 - accuracy: 0.0000e+00\n",
      "Epoch 192/200\n",
      "1/1 [==============================] - 0s 9ms/step - loss: 0.0466 - accuracy: 0.0000e+00\n",
      "Epoch 193/200\n",
      "1/1 [==============================] - 0s 8ms/step - loss: 0.0459 - accuracy: 0.0000e+00\n",
      "Epoch 194/200\n",
      "1/1 [==============================] - 0s 7ms/step - loss: 0.0453 - accuracy: 0.0000e+00\n",
      "Epoch 195/200\n",
      "1/1 [==============================] - 0s 8ms/step - loss: 0.0451 - accuracy: 0.0000e+00\n",
      "Epoch 196/200\n",
      "1/1 [==============================] - 0s 7ms/step - loss: 0.0444 - accuracy: 0.0000e+00\n",
      "Epoch 197/200\n",
      "1/1 [==============================] - 0s 6ms/step - loss: 0.0440 - accuracy: 0.0000e+00\n",
      "Epoch 198/200\n",
      "1/1 [==============================] - 0s 6ms/step - loss: 0.0437 - accuracy: 0.0000e+00\n",
      "Epoch 199/200\n",
      "1/1 [==============================] - 0s 7ms/step - loss: 0.0431 - accuracy: 0.0000e+00\n",
      "Epoch 200/200\n",
      "1/1 [==============================] - 0s 6ms/step - loss: 0.0428 - accuracy: 0.0000e+00\n"
     ]
    },
    {
     "data": {
      "text/plain": [
       "<keras.callbacks.History at 0x7feaa5987e50>"
      ]
     },
     "execution_count": 12,
     "metadata": {},
     "output_type": "execute_result"
    }
   ],
   "source": [
    "#training model\n",
    "model.fit(x, y, epochs=200, verbose=1)"
   ]
  },
  {
   "cell_type": "code",
   "execution_count": 13,
   "id": "bf309f84",
   "metadata": {
    "execution": {
     "iopub.execute_input": "2022-12-17T00:30:30.129508Z",
     "iopub.status.busy": "2022-12-17T00:30:30.129085Z",
     "iopub.status.idle": "2022-12-17T00:30:30.135764Z",
     "shell.execute_reply": "2022-12-17T00:30:30.134461Z"
    },
    "papermill": {
     "duration": 0.050496,
     "end_time": "2022-12-17T00:30:30.138319",
     "exception": false,
     "start_time": "2022-12-17T00:30:30.087823",
     "status": "completed"
    },
    "tags": []
   },
   "outputs": [
    {
     "name": "stdout",
     "output_type": "stream",
     "text": [
      "[[[ 90]\n",
      "  [100]\n",
      "  [110]\n",
      "  [120]\n",
      "  [130]]]\n"
     ]
    }
   ],
   "source": [
    "#predicting\n",
    "testData = np.array([90, 100, 110, 120, 130])\n",
    "testData = testData.reshape((1, nSteps, nFeatures))\n",
    "print(testData)"
   ]
  },
  {
   "cell_type": "code",
   "execution_count": 14,
   "id": "bc346816",
   "metadata": {
    "execution": {
     "iopub.execute_input": "2022-12-17T00:30:30.220622Z",
     "iopub.status.busy": "2022-12-17T00:30:30.220195Z",
     "iopub.status.idle": "2022-12-17T00:30:30.527952Z",
     "shell.execute_reply": "2022-12-17T00:30:30.526525Z"
    },
    "papermill": {
     "duration": 0.352251,
     "end_time": "2022-12-17T00:30:30.530720",
     "exception": false,
     "start_time": "2022-12-17T00:30:30.178469",
     "status": "completed"
    },
    "tags": []
   },
   "outputs": [
    {
     "name": "stdout",
     "output_type": "stream",
     "text": [
      "1/1 [==============================] - 0s 268ms/step\n",
      "[[140.12766]]\n"
     ]
    }
   ],
   "source": [
    "#result of predict\n",
    "predictNextNumber = model.predict(testData, verbose=1)\n",
    "print(predictNextNumber)"
   ]
  },
  {
   "cell_type": "code",
   "execution_count": 15,
   "id": "2f358ea4",
   "metadata": {
    "execution": {
     "iopub.execute_input": "2022-12-17T00:30:30.611965Z",
     "iopub.status.busy": "2022-12-17T00:30:30.611566Z",
     "iopub.status.idle": "2022-12-17T00:30:30.617926Z",
     "shell.execute_reply": "2022-12-17T00:30:30.616546Z"
    },
    "papermill": {
     "duration": 0.050151,
     "end_time": "2022-12-17T00:30:30.620960",
     "exception": false,
     "start_time": "2022-12-17T00:30:30.570809",
     "status": "completed"
    },
    "tags": []
   },
   "outputs": [
    {
     "name": "stdout",
     "output_type": "stream",
     "text": [
      "[[[160]\n",
      "  [170]\n",
      "  [180]\n",
      "  [190]\n",
      "  [200]]]\n"
     ]
    }
   ],
   "source": [
    "#one more test\n",
    "testData = np.array([160, 170, 180, 190, 200])\n",
    "testData = testData.reshape((1, nSteps, nFeatures))\n",
    "print(testData)"
   ]
  },
  {
   "cell_type": "code",
   "execution_count": 16,
   "id": "230a2d04",
   "metadata": {
    "execution": {
     "iopub.execute_input": "2022-12-17T00:30:30.702881Z",
     "iopub.status.busy": "2022-12-17T00:30:30.702484Z",
     "iopub.status.idle": "2022-12-17T00:30:30.768291Z",
     "shell.execute_reply": "2022-12-17T00:30:30.766950Z"
    },
    "papermill": {
     "duration": 0.109782,
     "end_time": "2022-12-17T00:30:30.771040",
     "exception": false,
     "start_time": "2022-12-17T00:30:30.661258",
     "status": "completed"
    },
    "tags": []
   },
   "outputs": [
    {
     "name": "stdout",
     "output_type": "stream",
     "text": [
      "1/1 [==============================] - 0s 26ms/step\n",
      "[[211.0175]]\n"
     ]
    }
   ],
   "source": [
    "#result\n",
    "predictNextNumber = model.predict(testData, verbose=1)\n",
    "print(predictNextNumber)"
   ]
  }
 ],
 "metadata": {
  "kernelspec": {
   "display_name": "Python 3",
   "language": "python",
   "name": "python3"
  },
  "language_info": {
   "codemirror_mode": {
    "name": "ipython",
    "version": 3
   },
   "file_extension": ".py",
   "mimetype": "text/x-python",
   "name": "python",
   "nbconvert_exporter": "python",
   "pygments_lexer": "ipython3",
   "version": "3.7.12"
  },
  "papermill": {
   "default_parameters": {},
   "duration": 23.125424,
   "end_time": "2022-12-17T00:30:34.013290",
   "environment_variables": {},
   "exception": null,
   "input_path": "__notebook__.ipynb",
   "output_path": "__notebook__.ipynb",
   "parameters": {},
   "start_time": "2022-12-17T00:30:10.887866",
   "version": "2.3.4"
  }
 },
 "nbformat": 4,
 "nbformat_minor": 5
}
